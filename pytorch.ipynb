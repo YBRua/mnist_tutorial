{
 "cells": [
  {
   "cell_type": "markdown",
   "metadata": {},
   "source": [
    "# Pytorch Tutorial"
   ]
  },
  {
   "cell_type": "markdown",
   "metadata": {},
   "source": [
    "Pytorch is a popular deep learning framework and it's easy to get started."
   ]
  },
  {
   "cell_type": "code",
   "execution_count": 9,
   "metadata": {
    "collapsed": true
   },
   "outputs": [],
   "source": [
    "import torch\n",
    "import torch.nn as nn\n",
    "import torch.nn.functional as F\n",
    "import torch.optim as optim\n",
    "import torch.utils.data as data\n",
    "import torchvision\n",
    "import torchvision.transforms as transforms\n",
    "from tqdm import tqdm\n",
    "import time\n",
    "import sys\n",
    "\n",
    "BATCH_SIZE = 128\n",
    "NUM_EPOCHS = 10"
   ]
  },
  {
   "cell_type": "markdown",
   "metadata": {},
   "source": [
    "First, we read the mnist data, preprocess them and encapsulate them into dataloader form."
   ]
  },
  {
   "cell_type": "code",
   "execution_count": 10,
   "metadata": {
    "collapsed": true
   },
   "outputs": [],
   "source": [
    "# preprocessing\n",
    "normalize = transforms.Normalize(mean=[.5], std=[.5])\n",
    "transform = transforms.Compose([transforms.ToTensor(), normalize])\n",
    "\n",
    "# download and load the data\n",
    "train_dataset = torchvision.datasets.MNIST(root='./mnist/', train=True, transform=transform, download=True)\n",
    "test_dataset = torchvision.datasets.MNIST(root='./mnist/', train=False, transform=transform, download=False)\n",
    "\n",
    "# encapsulate them into dataloader form\n",
    "train_loader = data.DataLoader(train_dataset, batch_size=BATCH_SIZE, shuffle=True, drop_last=True)\n",
    "test_loader = data.DataLoader(test_dataset, batch_size=BATCH_SIZE, shuffle=False, drop_last=True)"
   ]
  },
  {
   "cell_type": "markdown",
   "metadata": {},
   "source": [
    "Then, we define the model, object function and optimizer that we use to classify."
   ]
  },
  {
   "cell_type": "code",
   "execution_count": 11,
   "metadata": {
    "collapsed": true
   },
   "outputs": [],
   "source": [
    "class SimpleNet(nn.Module):\n",
    "# TODO:define model\n",
    "    def __init__(self):\n",
    "        super().__init__()\n",
    "        self.conv1 = nn.Conv2d(1, 6, 3, padding=1)\n",
    "        self.pool1 = nn.MaxPool2d(2)\n",
    "        self.conv2 = nn.Conv2d(6, 16, 3, padding=1)\n",
    "        self.pool2 = nn.MaxPool2d(2)\n",
    "        self.fc1 = nn.Linear(784, 28)\n",
    "        self.fc2 = nn.Linear(28, 10)\n",
    "\n",
    "    def forward(self, x):\n",
    "        conv1 = self.conv1(x)\n",
    "        act1 = F.relu(conv1)\n",
    "        pool1 = self.pool1(act1)\n",
    "        conv2 = self.conv2(pool1)\n",
    "        act2 = F.relu(conv2)\n",
    "        pool2 = self.pool2(act2)\n",
    "        pool2 = pool2.reshape(-1, 784)\n",
    "        fc1 = self.fc1(pool2)\n",
    "        act_fc1 = F.relu(fc1)\n",
    "        fc2 = self.fc2(act_fc1)\n",
    "\n",
    "        return fc2\n",
    "\n",
    "\n",
    "model = SimpleNet()\n",
    "\n",
    "# TODO:define loss function and optimiter\n",
    "criterion = F.cross_entropy\n",
    "optimizer = optim.Adam(model.parameters())"
   ]
  },
  {
   "cell_type": "markdown",
   "metadata": {},
   "source": [
    "Next, we can start to train and evaluate!"
   ]
  },
  {
   "cell_type": "code",
   "execution_count": 12,
   "metadata": {
    "collapsed": true,
    "scrolled": true
   },
   "outputs": [
    {
     "output_type": "stream",
     "name": "stderr",
     "text": [
      "Loss: 0.4964; Acc: 0.8521: 100%|██████████| 468/468 [00:32<00:00, 14.28it/s]\n",
      "Test Set Acc: 95.82\n",
      "Loss: 0.1116; Acc: 0.9670: 100%|██████████| 468/468 [00:32<00:00, 14.19it/s]\n",
      "Test Set Acc: 97.50\n",
      "Loss: 0.0794; Acc: 0.9750: 100%|██████████| 468/468 [00:33<00:00, 14.15it/s]\n",
      "Test Set Acc: 97.82\n",
      "Loss: 0.0644; Acc: 0.9800: 100%|██████████| 468/468 [00:32<00:00, 14.62it/s]\n",
      "Test Set Acc: 97.79\n",
      "Loss: 0.0575; Acc: 0.9822: 100%|██████████| 468/468 [00:35<00:00, 13.07it/s]\n",
      "Test Set Acc: 98.47\n",
      "Loss: 0.0494; Acc: 0.9843: 100%|██████████| 468/468 [00:31<00:00, 14.84it/s]\n",
      "Test Set Acc: 98.23\n",
      "Loss: 0.0451; Acc: 0.9860: 100%|██████████| 468/468 [00:31<00:00, 14.93it/s]\n",
      "Test Set Acc: 98.35\n",
      "Loss: 0.0403; Acc: 0.9871: 100%|██████████| 468/468 [00:32<00:00, 14.54it/s]\n",
      "Test Set Acc: 98.49\n",
      "Loss: 0.0370; Acc: 0.9884: 100%|██████████| 468/468 [00:33<00:00, 14.12it/s]\n",
      "Test Set Acc: 98.54\n",
      "Loss: 0.0346; Acc: 0.9896: 100%|██████████| 468/468 [00:32<00:00, 14.60it/s]\n",
      "Test Set Acc: 98.50\n"
     ]
    }
   ],
   "source": [
    "# train and evaluate\n",
    "for epoch in range(NUM_EPOCHS):\n",
    "    train_err = 0\n",
    "    train_acc = 0\n",
    "    t = tqdm(train_loader, leave=True)\n",
    "    for i, (images, labels) in enumerate(t):\n",
    "        # TODO:forward + backward + optimize\n",
    "        optimizer.zero_grad()\n",
    "        y_pred = model.forward(images)\n",
    "        err = criterion(y_pred, labels)\n",
    "        err.backward()\n",
    "        optimizer.step()\n",
    "        train_err = (train_err * i + err.item()) / (i + 1)\n",
    "        train_acc = (train_acc * i + (labels == y_pred.argmax(-1)).float().mean().item())\\\n",
    "            / (i + 1)\n",
    "        t.set_description(\n",
    "            \"Loss: %.4f; Acc: %.4f\"\n",
    "            % (train_err, train_acc))\n",
    "    # evaluate\n",
    "    # TODO:calculate the accuracy using traning and testing dataset\n",
    "    test_acc = 0\n",
    "    for i, (images, labels) in enumerate(test_loader):\n",
    "        y_pred = model.forward(images)\n",
    "        test_acc = (test_acc * i + (labels == y_pred.argmax(-1)).float().mean().item()) \\\n",
    "            / (i + 1)\n",
    "    print(\"Test Set Acc: %.2f\" % (test_acc * 100), file=sys.stderr)\n",
    "    \n"
   ]
  },
  {
   "cell_type": "markdown",
   "metadata": {},
   "source": [
    "#### Q5:\n",
    "Please print the training and testing accuracy."
   ]
  },
  {
   "cell_type": "code",
   "execution_count": 13,
   "metadata": {},
   "outputs": [
    {
     "output_type": "stream",
     "name": "stdout",
     "text": [
      "Done!\nTrain Acc: 98.96; Test Acc: 98.50\n"
     ]
    }
   ],
   "source": [
    "print(\"Done!\")\n",
    "print(\"Train Acc: %.2f; Test Acc: %.2f\" % (train_acc * 100, test_acc * 100))"
   ]
  }
 ],
 "metadata": {
  "kernelspec": {
   "name": "python385jvsc74a57bd007efdcd4b820c98a756949507a4d29d7862823915ec7477944641bea022f4f62",
   "display_name": "Python 3.8.5 64-bit ('base': conda)"
  },
  "language_info": {
   "codemirror_mode": {
    "name": "ipython",
    "version": 3
   },
   "file_extension": ".py",
   "mimetype": "text/x-python",
   "name": "python",
   "nbconvert_exporter": "python",
   "pygments_lexer": "ipython3",
   "version": "3.8.5"
  }
 },
 "nbformat": 4,
 "nbformat_minor": 2
}