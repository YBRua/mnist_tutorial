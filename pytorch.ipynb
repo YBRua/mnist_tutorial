{
 "cells": [
  {
   "cell_type": "markdown",
   "metadata": {},
   "source": [
    "# Pytorch Tutorial"
   ]
  },
  {
   "cell_type": "markdown",
   "metadata": {},
   "source": [
    "Pytorch is a popular deep learning framework and it's easy to get started."
   ]
  },
  {
   "cell_type": "code",
   "execution_count": 14,
   "metadata": {
    "collapsed": true
   },
   "outputs": [],
   "source": [
    "import torch\n",
    "import torch.nn as nn\n",
    "import torch.nn.functional as F\n",
    "import torch.optim as optim\n",
    "import torch.utils.data as data\n",
    "import torchvision\n",
    "import torchvision.transforms as transforms\n",
    "from tqdm import tqdm\n",
    "import time\n",
    "\n",
    "BATCH_SIZE = 128\n",
    "NUM_EPOCHS = 10"
   ]
  },
  {
   "cell_type": "markdown",
   "metadata": {},
   "source": [
    "First, we read the mnist data, preprocess them and encapsulate them into dataloader form."
   ]
  },
  {
   "cell_type": "code",
   "execution_count": 15,
   "metadata": {
    "collapsed": true
   },
   "outputs": [],
   "source": [
    "# preprocessing\n",
    "normalize = transforms.Normalize(mean=[.5], std=[.5])\n",
    "transform = transforms.Compose([transforms.ToTensor(), normalize])\n",
    "\n",
    "# download and load the data\n",
    "train_dataset = torchvision.datasets.MNIST(root='./mnist/', train=True, transform=transform, download=True)\n",
    "test_dataset = torchvision.datasets.MNIST(root='./mnist/', train=False, transform=transform, download=False)\n",
    "\n",
    "# encapsulate them into dataloader form\n",
    "train_loader = data.DataLoader(train_dataset, batch_size=BATCH_SIZE, shuffle=True, drop_last=True)\n",
    "test_loader = data.DataLoader(test_dataset, batch_size=BATCH_SIZE, shuffle=False, drop_last=True)"
   ]
  },
  {
   "cell_type": "markdown",
   "metadata": {},
   "source": [
    "Then, we define the model, object function and optimizer that we use to classify."
   ]
  },
  {
   "cell_type": "code",
   "execution_count": 16,
   "metadata": {
    "collapsed": true
   },
   "outputs": [],
   "source": [
    "class SimpleNet(nn.Module):\n",
    "# TODO:define model\n",
    "    def __init__(self):\n",
    "        super().__init__()\n",
    "        self.conv1 = nn.Conv2d(1, 6, 3, padding=1)\n",
    "        self.pool1 = nn.MaxPool2d(2)\n",
    "        self.conv2 = nn.Conv2d(6, 16, 3, padding=1)\n",
    "        self.pool2 = nn.MaxPool2d(2)\n",
    "        self.fc1 = nn.Linear(784, 28)\n",
    "        self.fc2 = nn.Linear(28, 10)\n",
    "\n",
    "    def forward(self, x):\n",
    "        conv1 = self.conv1(x)\n",
    "        act1 = F.relu(conv1)\n",
    "        pool1 = self.pool1(act1)\n",
    "        conv2 = self.conv2(pool1)\n",
    "        act2 = F.relu(conv2)\n",
    "        pool2 = self.pool2(act2)\n",
    "        pool2 = pool2.reshape(-1, 784)\n",
    "        fc1 = self.fc1(pool2)\n",
    "        act_fc1 = F.relu(fc1)\n",
    "        fc2 = self.fc2(act_fc1)\n",
    "\n",
    "        return fc2\n",
    "\n",
    "\n",
    "\n",
    "\n",
    "    \n",
    "model = SimpleNet()\n",
    "\n",
    "# TODO:define loss function and optimiter\n",
    "criterion = F.cross_entropy\n",
    "optimizer = optim.Adam(model.parameters())"
   ]
  },
  {
   "cell_type": "markdown",
   "metadata": {},
   "source": [
    "Next, we can start to train and evaluate!"
   ]
  },
  {
   "cell_type": "code",
   "execution_count": 17,
   "metadata": {
    "collapsed": true,
    "scrolled": true
   },
   "outputs": [
    {
     "output_type": "stream",
     "name": "stderr",
     "text": [
      "Loss: 0.5705; Acc: 0.8279: 100%|██████████| 468/468 [00:34<00:00, 13.76it/s]\n",
      "\n",
      " Evaluating...\n",
      "Loss: 0.1735; Acc: 0.9453:   0%|          | 2/468 [00:00<00:33, 13.94it/s]Test Set Acc: 0.9406\n",
      "Loss: 0.1712; Acc: 0.9473: 100%|██████████| 468/468 [00:32<00:00, 14.45it/s]\n",
      "\n",
      " Evaluating...\n",
      "Loss: 0.1888; Acc: 0.9414:   0%|          | 2/468 [00:00<00:32, 14.33it/s]Test Set Acc: 0.9608\n",
      "Loss: 0.1204; Acc: 0.9631: 100%|██████████| 468/468 [00:32<00:00, 14.19it/s]\n",
      "\n",
      " Evaluating...\n",
      "Loss: 0.1250; Acc: 0.9570:   0%|          | 2/468 [00:00<00:32, 14.43it/s]Test Set Acc: 0.9697\n",
      "Loss: 0.0964; Acc: 0.9701: 100%|██████████| 468/468 [00:32<00:00, 14.20it/s]\n",
      "\n",
      " Evaluating...\n",
      "Loss: 0.1056; Acc: 0.9609:   0%|          | 2/468 [00:00<00:38, 12.08it/s]Test Set Acc: 0.9706\n",
      "Loss: 0.0822; Acc: 0.9744: 100%|██████████| 468/468 [00:33<00:00, 14.05it/s]\n",
      "\n",
      " Evaluating...\n",
      "Loss: 0.0799; Acc: 0.9727:   0%|          | 2/468 [00:00<00:32, 14.18it/s]Test Set Acc: 0.9791\n",
      "Loss: 0.0731; Acc: 0.9771: 100%|██████████| 468/468 [00:33<00:00, 13.83it/s]\n",
      "\n",
      " Evaluating...\n",
      "Loss: 0.0577; Acc: 0.9883:   0%|          | 2/468 [00:00<00:34, 13.48it/s]Test Set Acc: 0.9787\n",
      "Loss: 0.0647; Acc: 0.9794: 100%|██████████| 468/468 [00:34<00:00, 13.40it/s]\n",
      "\n",
      " Evaluating...\n",
      "Loss: 0.0482; Acc: 0.9844:   0%|          | 2/468 [00:00<00:33, 13.75it/s]Test Set Acc: 0.9803\n",
      "Loss: 0.0590; Acc: 0.9809: 100%|██████████| 468/468 [00:33<00:00, 14.15it/s]\n",
      "\n",
      " Evaluating...\n",
      "Loss: 0.0413; Acc: 0.9922:   0%|          | 2/468 [00:00<00:33, 13.91it/s]Test Set Acc: 0.9809\n",
      "Loss: 0.0539; Acc: 0.9828: 100%|██████████| 468/468 [00:33<00:00, 14.13it/s]\n",
      "\n",
      " Evaluating...\n",
      "Loss: 0.0357; Acc: 0.9844:   0%|          | 2/468 [00:00<00:36, 12.69it/s]Test Set Acc: 0.9790\n",
      "Loss: 0.0501; Acc: 0.9840: 100%|██████████| 468/468 [00:35<00:00, 13.29it/s]\n",
      "\n",
      " Evaluating...\n",
      "Test Set Acc: 0.9833\n"
     ]
    }
   ],
   "source": [
    "# train and evaluate\n",
    "for epoch in range(NUM_EPOCHS):\n",
    "    train_err = 0\n",
    "    train_acc = 0\n",
    "    t = tqdm(train_loader, leave=True)\n",
    "    for i, (images, labels) in enumerate(t):\n",
    "        # TODO:forward + backward + optimize\n",
    "        optimizer.zero_grad()\n",
    "        y_pred = model.forward(images)\n",
    "        err = criterion(y_pred, labels)\n",
    "        err.backward()\n",
    "        optimizer.step()\n",
    "        train_err += err.item()\n",
    "        train_acc += (labels == y_pred.argmax(-1)).float().mean().item()\n",
    "        t.set_description(\n",
    "            \"Loss: %.4f; Acc: %.4f\"\n",
    "            % ((train_err / (i+1), train_acc / (i+1))))\n",
    "    # evaluate\n",
    "    # TODO:calculate the accuracy using traning and testing dataset\n",
    "    test_acc = 0\n",
    "    print(\"\\n Evaluating...\")\n",
    "    for i, (images, labels) in enumerate(test_loader):\n",
    "        y_pred = model.forward(images)\n",
    "        test_acc += (labels == y_pred.argmax(-1)).float().mean().item()\n",
    "    print(\"Test Set Acc: %.4f\" % (test_acc / (i+1)))\n",
    "    \n"
   ]
  },
  {
   "cell_type": "markdown",
   "metadata": {},
   "source": [
    "#### Q5:\n",
    "Please print the training and testing accuracy."
   ]
  }
 ],
 "metadata": {
  "kernelspec": {
   "name": "python385jvsc74a57bd007efdcd4b820c98a756949507a4d29d7862823915ec7477944641bea022f4f62",
   "display_name": "Python 3.8.5 64-bit ('base': conda)"
  },
  "language_info": {
   "codemirror_mode": {
    "name": "ipython",
    "version": 3
   },
   "file_extension": ".py",
   "mimetype": "text/x-python",
   "name": "python",
   "nbconvert_exporter": "python",
   "pygments_lexer": "ipython3",
   "version": "3.8.5"
  }
 },
 "nbformat": 4,
 "nbformat_minor": 2
}